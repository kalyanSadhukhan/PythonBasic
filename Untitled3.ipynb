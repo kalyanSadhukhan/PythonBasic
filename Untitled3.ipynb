{
  "nbformat": 4,
  "nbformat_minor": 0,
  "metadata": {
    "colab": {
      "provenance": [],
      "authorship_tag": "ABX9TyPz9gRO4eLwtCDMeevIY3vW",
      "include_colab_link": true
    },
    "kernelspec": {
      "name": "python3",
      "display_name": "Python 3"
    },
    "language_info": {
      "name": "python"
    }
  },
  "cells": [
    {
      "cell_type": "markdown",
      "metadata": {
        "id": "view-in-github",
        "colab_type": "text"
      },
      "source": [
        "<a href=\"https://colab.research.google.com/github/kalyanSadhukhan/PythonBasic/blob/main/Untitled3.ipynb\" target=\"_parent\"><img src=\"https://colab.research.google.com/assets/colab-badge.svg\" alt=\"Open In Colab\"/></a>"
      ]
    },
    {
      "cell_type": "code",
      "source": [
        "import pandas as pd\n",
        "import numpy as np\n",
        "data= [115, 21, 29, 21, 15, 24, 32, 21, 15, 301]\n",
        "mean= np.mean (data)\n",
        "med= np.median (data)\n",
        "mode= pd.Series (data).mode() [0]\n",
        "var= np.var(data)\n",
        "std= np.std(data)\n",
        "print(\"Mean:\", mean, \"\\nMedian:\", med, \"\\nMode:\", mode, \"\\nVarience:\", var, \"\\nStandard deviation:\", std)"
      ],
      "metadata": {
        "colab": {
          "base_uri": "https://localhost:8080/"
        },
        "id": "4OSbE3awn25q",
        "outputId": "55fa8593-10b1-4e27-97cf-e8b2c464d1ce"
      },
      "execution_count": 3,
      "outputs": [
        {
          "output_type": "stream",
          "name": "stdout",
          "text": [
            "Mean: 59.4 \n",
            "Median: 22.5 \n",
            "Mode: 21 \n",
            "Varience: 7275.639999999999 \n",
            "Standard deviation: 85.29736221009416\n"
          ]
        }
      ]
    },
    {
      "cell_type": "code",
      "source": [
        "import pandas as pd\n",
        "import numpy as np\n",
        "df_robot = pd.read_csv(\"robot_dataset(robot_dataset)_1(in).csv\")\n",
        "avg_interactions= df_robot[\"Interaction_Count\"].mean()\n",
        "steps_total= df_robot[\"Steps_Walked\"].sum()\n",
        "energy_max= df_robot [\"Energy_Consumption (kWh)\"].max()\n",
        "energy_min= df_robot [\"Energy_Consumption (kWh)\"].min()\n",
        "steps_energy_corr = df_robot[\"Steps_Walked\"].corr(df_robot[\"Energy_Consumption (kWh)\"])\n",
        "learning_var= df_robot[\"Learning_Sessions\"].var()\n",
        "print(f\"The average (mean) number of conversations the robot has daily is {avg_interactions}\")\n",
        "print(f\"The total number of steps walked by the robot over the given period is {steps_total}\")\n",
        "print(f\"The highest energy consumption recorded in the dataset is {energy_max}\")\n",
        "print(f\"The lowest energy consumption recorded in the dataset is {energy_min}\")\n",
        "print(f\"Correlation between steps walked and energy consumption: {steps_energy_corr}\")\n",
        "print(f\"The variance in the number of learning sessions completed is {learning_var}\")"
      ],
      "metadata": {
        "colab": {
          "base_uri": "https://localhost:8080/"
        },
        "id": "tJrv8Ug3qOMz",
        "outputId": "fc55ebd4-b025-43a5-8b91-24849662bf2d"
      },
      "execution_count": 10,
      "outputs": [
        {
          "output_type": "stream",
          "name": "stdout",
          "text": [
            "The average (mean) number of conversations the robot has daily is 5.51\n",
            "The total number of steps walked by the robot over the given period is 14379\n",
            "The highest energy consumption recorded in the dataset is 3.0\n",
            "The lowest energy consumption recorded in the dataset is 1.0\n",
            "Correlation between steps walked and energy consumption: 0.0015478137393313933\n",
            "The variance in the number of learning sessions completed is 391.9422845691385\n"
          ]
        }
      ]
    },
    {
      "cell_type": "code",
      "source": [
        "person_name = \"Ryan\"\n",
        "person_age = 7\n",
        "person_height = 14.8\n",
        "is_online = False\n",
        "print(f\"Name: {person_name}, Age: {person_age}, Height: {person_height}, Online: {is_online}\")"
      ],
      "metadata": {
        "colab": {
          "base_uri": "https://localhost:8080/"
        },
        "id": "Ui6RPWjr14nM",
        "outputId": "35f4cd4e-f464-407e-bb74-0f554ef4b4b5"
      },
      "execution_count": 23,
      "outputs": [
        {
          "output_type": "stream",
          "name": "stdout",
          "text": [
            "Name: Ryan, Age: 7, Height: 14.8, Online: False\n"
          ]
        }
      ]
    },
    {
      "cell_type": "code",
      "source": [
        "num = int(input(\"Enter an integer: \"))\n",
        "if num > 0:\n",
        "  print(f\"{num} is positive.\")\n",
        "elif num < 0:\n",
        "  print(f\"{num} is negative.\")\n",
        "else:\n",
        "  print(f\"{num} is zero.\")"
      ],
      "metadata": {
        "colab": {
          "base_uri": "https://localhost:8080/"
        },
        "id": "3nnDsR0t2D7h",
        "outputId": "7811d56f-abfc-4fa1-9674-a990cb1c0604"
      },
      "execution_count": 24,
      "outputs": [
        {
          "output_type": "stream",
          "name": "stdout",
          "text": [
            "Enter an integer: 23\n",
            "23 is positive.\n"
          ]
        }
      ]
    },
    {
      "cell_type": "code",
      "source": [
        "num=int(input(\"Enter a number:  \"))\n",
        "for i in range (1,11):\n",
        "  print(f\"{num}×{i} = {num*i}\")"
      ],
      "metadata": {
        "colab": {
          "base_uri": "https://localhost:8080/"
        },
        "id": "GEu3vmJB1tqp",
        "outputId": "43a76d93-6cd9-40a8-b66f-77b09b9eb230"
      },
      "execution_count": 22,
      "outputs": [
        {
          "output_type": "stream",
          "name": "stdout",
          "text": [
            "Enter a number:  17\n",
            "17×1 = 17\n",
            "17×2 = 34\n",
            "17×3 = 51\n",
            "17×4 = 68\n",
            "17×5 = 85\n",
            "17×6 = 102\n",
            "17×7 = 119\n",
            "17×8 = 136\n",
            "17×9 = 153\n",
            "17×10 = 170\n"
          ]
        }
      ]
    },
    {
      "cell_type": "code",
      "execution_count": 1,
      "metadata": {
        "colab": {
          "base_uri": "https://localhost:8080/"
        },
        "id": "fQSO1-G4kJtb",
        "outputId": "3269c704-743b-4b03-9ae6-2ae7a0b305a3"
      },
      "outputs": [
        {
          "output_type": "stream",
          "name": "stdout",
          "text": [
            "First fruit: Mango\n",
            "List after appending a fruit: ['Mango', 'Peach', 'Grapes', 'Apple', 'Pineapple', 'Strawberry']\n",
            "List after removing Peach: ['Mango', 'Grapes', 'Apple', 'Pineapple', 'Strawberry']\n",
            "List after sorting alphabetically: ['Apple', 'Grapes', 'Mango', 'Pineapple', 'Strawberry']\n",
            "Length of the list: 5\n"
          ]
        }
      ],
      "source": [
        "fruit_list = [\"Mango\", \"Peach\", \"Grapes\", \"Apple\", \"Pineapple\"]\n",
        "# 1. Accessing the first fruit\n",
        "print(\"First fruit:\", fruit_list[0])\n",
        "# 2. Appending a new fruit to the list\n",
        "fruit_list.append(\"Strawberry\")\n",
        "print(\"List after appending a fruit:\", fruit_list)\n",
        "# 3. Removing a fruit from the list\n",
        "fruit_list.remove(\"Peach\")\n",
        "print(\"List after removing Peach:\", fruit_list)\n",
        "# 4. Sorting the list in alphabetical order\n",
        "fruit_list.sort()\n",
        "print(\"List after sorting alphabetically:\", fruit_list)\n",
        "# 5. Length of the list\n",
        "print(\"Length of the list:\", len(fruit_list))"
      ]
    },
    {
      "cell_type": "code",
      "source": [
        "# Creating a tuple with 5 numbers\n",
        "data_tuple = (12, 24, 36, 48, 60)\n",
        "# 1. Accessing an element in the tuple\n",
        "print(\"First number:\", data_tuple[0])\n",
        "# 2. Slicing the tuple (getting the first 3 numbers)\n",
        "print(\"First three numbers:\", data_tuple[:3])\n",
        "# 3. Getting the length of the tuple\n",
        "print(\"Length of the tuple:\", len(data_tuple))\n",
        "# 4. Counting the occurrences of a number in the tuple\n",
        "count_of_24 = data_tuple.count(24)\n",
        "print(\"Count of 24 in the tuple:\", count_of_24)\n",
        "# 5. Finding the index of a number in the tuple\n",
        "index_of_48 = data_tuple.index(48)\n",
        "print(\"Index of 48 in the tuple:\", index_of_48)\n",
        "# 6. Converting the tuple to a list\n",
        "data_list = list(data_tuple)\n",
        "print(\"Tuple converted to list:\", data_list)"
      ],
      "metadata": {
        "colab": {
          "base_uri": "https://localhost:8080/"
        },
        "id": "KI_HDjyvmbUE",
        "outputId": "0ac6eca4-3a54-46dd-d2f4-ef12aa0b7e2d"
      },
      "execution_count": 2,
      "outputs": [
        {
          "output_type": "stream",
          "name": "stdout",
          "text": [
            "First number: 12\n",
            "First three numbers: (12, 24, 36)\n",
            "Length of the tuple: 5\n",
            "Count of 24 in the tuple: 1\n",
            "Index of 48 in the tuple: 3\n",
            "Tuple converted to list: [12, 24, 36, 48, 60]\n"
          ]
        }
      ]
    },
    {
      "cell_type": "code",
      "source": [
        "grades_dict = {\"Ethan\": 88, \"Sophia\": 93, \"Liam\": 80}\n",
        "# 1. Accessing the marks of a specific student\n",
        "print(\"Marks of Ethan:\", grades_dict[\"Ethan\"])\n",
        "# 2. Adding a new student and their marks to the dictionary\n",
        "grades_dict[\"Olivia\"] = 96\n",
        "print(\"Dictionary after adding a new student:\", grades_dict)\n",
        "# 3. Updating the marks of an existing student\n",
        "grades_dict[\"Sophia\"] = 98\n",
        "print(\"Dictionary after updating Sophia's marks:\", grades_dict)\n",
        "# 4. Removing a student from the dictionary\n",
        "del grades_dict[\"Liam\"]\n",
        "print(\"Dictionary after removing Liam:\", grades_dict)\n",
        "# 5. Getting the total number of students\n",
        "print(\"Total number of students:\", len(grades_dict))\n",
        "# 6. Iterating over the dictionary to print all students and their marks\n",
        "for student, marks in grades_dict.items():\n",
        "    print(f\"{student}: {marks}\")"
      ],
      "metadata": {
        "colab": {
          "base_uri": "https://localhost:8080/"
        },
        "id": "OCdHsceOo7-B",
        "outputId": "6eb74a7e-a447-4798-d8d3-5077692fd274"
      },
      "execution_count": 4,
      "outputs": [
        {
          "output_type": "stream",
          "name": "stdout",
          "text": [
            "Marks of Ethan: 88\n",
            "Dictionary after adding a new student: {'Ethan': 88, 'Sophia': 93, 'Liam': 80, 'Olivia': 96}\n",
            "Dictionary after updating Sophia's marks: {'Ethan': 88, 'Sophia': 98, 'Liam': 80, 'Olivia': 96}\n",
            "Dictionary after removing Liam: {'Ethan': 88, 'Sophia': 98, 'Olivia': 96}\n",
            "Total number of students: 3\n",
            "Ethan: 88\n",
            "Sophia: 98\n",
            "Olivia: 96\n"
          ]
        }
      ]
    },
    {
      "cell_type": "code",
      "source": [
        "# Creating two sets of integers\n",
        "groupA = {10, 20, 30, 40, 50}\n",
        "groupB = {40, 50, 60, 70, 80}\n",
        "# 1. Union of the sets (all elements from both sets)\n",
        "union_set = groupA | groupB\n",
        "print(\"Union of groupA and groupB:\", union_set)\n",
        "# 2. Intersection of the sets (common elements between both sets)\n",
        "intersection_set = groupA & groupB\n",
        "print(\"Intersection of groupA and groupB:\", intersection_set)\n",
        "# 3. Difference of the sets (elements in groupA but not in groupB)\n",
        "difference_set = groupA - groupB\n",
        "print(\"Difference of groupA and groupB:\", difference_set)"
      ],
      "metadata": {
        "colab": {
          "base_uri": "https://localhost:8080/"
        },
        "id": "dXK1EZNrp0k8",
        "outputId": "b018b6a1-7935-4fd1-efb8-4c67fc8f30e9"
      },
      "execution_count": 5,
      "outputs": [
        {
          "output_type": "stream",
          "name": "stdout",
          "text": [
            "Union of groupA and groupB: {70, 40, 10, 80, 50, 20, 60, 30}\n",
            "Intersection of groupA and groupB: {40, 50}\n",
            "Difference of groupA and groupB: {10, 20, 30}\n"
          ]
        }
      ]
    },
    {
      "cell_type": "code",
      "source": [
        "def get_maximum(values):\n",
        "    if not values:\n",
        "        return None\n",
        "    return max(values)\n",
        "\n",
        "nums = list(map(int, input(\"Enter numbers separated by spaces: \").split()))\n",
        "max_num = get_maximum(nums)\n",
        "print(\"The maximum number is:\", max_num)"
      ],
      "metadata": {
        "colab": {
          "base_uri": "https://localhost:8080/"
        },
        "id": "Dk0dTYLgtQo8",
        "outputId": "7f986d03-6120-42d1-d6fc-e20f87789be6"
      },
      "execution_count": 12,
      "outputs": [
        {
          "output_type": "stream",
          "name": "stdout",
          "text": [
            "Enter numbers separated by spaces: 22 34 65 98 72 31 85\n",
            "The maximum number is: 98\n"
          ]
        }
      ]
    },
    {
      "cell_type": "code",
      "source": [
        "squared_evens = [num**2 for num in range(2, 22) if num % 2 == 0]\n",
        "print(squared_evens)"
      ],
      "metadata": {
        "colab": {
          "base_uri": "https://localhost:8080/"
        },
        "id": "-AG1r8XEt8r2",
        "outputId": "9a16c417-f059-4730-c970-45d7bc5dca8f"
      },
      "execution_count": 13,
      "outputs": [
        {
          "output_type": "stream",
          "name": "stdout",
          "text": [
            "[4, 16, 36, 64, 100, 144, 196, 256, 324, 400]\n"
          ]
        }
      ]
    },
    {
      "cell_type": "code",
      "source": [
        "multiply = lambda a, b: a * b\n",
        "p, q = map(int, input(\"Enter two numbers: \").split())\n",
        "print(f\"Multiplication Result: {multiply(p, q)}\")"
      ],
      "metadata": {
        "colab": {
          "base_uri": "https://localhost:8080/"
        },
        "id": "-Y0laX5jujrD",
        "outputId": "1c24732d-8e44-43e7-c895-f4879589a003"
      },
      "execution_count": 14,
      "outputs": [
        {
          "output_type": "stream",
          "name": "stdout",
          "text": [
            "Enter two numbers: 6 5\n",
            "Multiplication Result: 30\n"
          ]
        }
      ]
    },
    {
      "cell_type": "code",
      "source": [
        "import numpy as np\n",
        "# 1D Array\n",
        "array_1d = np.array([4, 8, 15, 16, 23, 42])\n",
        "print(\"One-dimensional array:\\n\", array_1d)\n",
        "print(\"Shape:\", array_1d.shape)\n",
        "print(\"Number of dimensions:\", array_1d.ndim)\n",
        "# 2D Array\n",
        "array_2d = np.array([[1, 3, 5], [7, 9, 11]])\n",
        "print(\"\\nTwo-dimensional array:\\n\", array_2d)\n",
        "print(\"Shape:\", array_2d.shape)\n",
        "print(\"Number of dimensions:\", array_2d.ndim)\n",
        "# 3D Array\n",
        "array_3d = np.array([[[2, 4], [6, 8]], [[10, 12], [14, 16]]])\n",
        "print(\"\\nThree-dimensional array:\\n\", array_3d)\n",
        "print(\"Shape:\", array_3d.shape)\n",
        "print(\"Number of dimensions:\", array_3d.ndim)"
      ],
      "metadata": {
        "colab": {
          "base_uri": "https://localhost:8080/"
        },
        "id": "caAWYDlzvAfO",
        "outputId": "c724308d-97e8-4efa-dbdc-7c9e5a6b95ed"
      },
      "execution_count": 15,
      "outputs": [
        {
          "output_type": "stream",
          "name": "stdout",
          "text": [
            "One-dimensional array:\n",
            " [ 4  8 15 16 23 42]\n",
            "Shape: (6,)\n",
            "Number of dimensions: 1\n",
            "\n",
            "Two-dimensional array:\n",
            " [[ 1  3  5]\n",
            " [ 7  9 11]]\n",
            "Shape: (2, 3)\n",
            "Number of dimensions: 2\n",
            "\n",
            "Three-dimensional array:\n",
            " [[[ 2  4]\n",
            "  [ 6  8]]\n",
            "\n",
            " [[10 12]\n",
            "  [14 16]]]\n",
            "Shape: (2, 2, 2)\n",
            "Number of dimensions: 3\n"
          ]
        }
      ]
    },
    {
      "cell_type": "code",
      "source": [
        "import numpy as np\n",
        "# Creating a 5x5 array of random integers between 1 and 100\n",
        "random_matrix = np.random.randint(1, 100, (5, 5))\n",
        "print(\"Random 5x5 Matrix:\\n\", random_matrix)\n",
        "# Accessing specific elements and subarrays\n",
        "element = random_matrix[1, 2]\n",
        "print(\"\\nElement at row 2, column 3:\", element)\n",
        "second_row = random_matrix[1, :]\n",
        "print(\"Second row:\", second_row)\n",
        "third_column = random_matrix[:, 2]\n",
        "print(\"Third column:\", third_column)\n",
        "subarray = random_matrix[0:2, 1:3]\n",
        "print(\"Subarray (rows 1 and 2, columns 2 and 3):\\n\", subarray)"
      ],
      "metadata": {
        "colab": {
          "base_uri": "https://localhost:8080/"
        },
        "id": "_s67Grc0wlGd",
        "outputId": "eed6265a-c903-4f00-9590-2b63858771cd"
      },
      "execution_count": 16,
      "outputs": [
        {
          "output_type": "stream",
          "name": "stdout",
          "text": [
            "Random 5x5 Matrix:\n",
            " [[67 49 51 98 84]\n",
            " [ 4 33 44 71 47]\n",
            " [59 77  9 43 88]\n",
            " [77 23 88 60 54]\n",
            " [27 41 36  8 20]]\n",
            "\n",
            "Element at row 2, column 3: 44\n",
            "Second row: [ 4 33 44 71 47]\n",
            "Third column: [51 44  9 88 36]\n",
            "Subarray (rows 1 and 2, columns 2 and 3):\n",
            " [[49 51]\n",
            " [33 44]]\n"
          ]
        }
      ]
    },
    {
      "cell_type": "code",
      "source": [
        "import numpy as np\n",
        "# Creating a 4x4 array with numbers from 1 to 16\n",
        "array_4x4 = np.arange(1, 17).reshape(4, 4)\n",
        "print(\"Original 4x4 Array:\\n\", array_4x4)\n",
        "# Slicing the first 2 rows and first 2 columns\n",
        "sliced_part = array_4x4[:2, :2]\n",
        "print(\"\\nSliced Array (first 2 rows and first 2 columns):\\n\", sliced_part)"
      ],
      "metadata": {
        "colab": {
          "base_uri": "https://localhost:8080/"
        },
        "id": "nAqUS5uhxgTm",
        "outputId": "781c7639-b23c-485e-bf73-7755ca9fcc55"
      },
      "execution_count": 17,
      "outputs": [
        {
          "output_type": "stream",
          "name": "stdout",
          "text": [
            "Original 4x4 Array:\n",
            " [[ 1  2  3  4]\n",
            " [ 5  6  7  8]\n",
            " [ 9 10 11 12]\n",
            " [13 14 15 16]]\n",
            "\n",
            "Sliced Array (first 2 rows and first 2 columns):\n",
            " [[1 2]\n",
            " [5 6]]\n"
          ]
        }
      ]
    },
    {
      "cell_type": "code",
      "source": [
        "import numpy as np\n",
        "# Creating a 2D array of shape (6,2) with numbers from 1 to 12\n",
        "array_2d = np.arange(1, 13).reshape(6, 2)\n",
        "print(\"Original 2D Array (6x2):\\n\", array_2d)\n",
        "# Reshaping to a 3D array of shape (2, 3, 2)\n",
        "array_3d = array_2d.reshape(2, 3, 2)\n",
        "print(\"\\nReshaped 3D Array (2x3x2):\\n\", array_3d)\n",
        "# Flattening the array\n",
        "flattened_array = array_3d.flatten()\n",
        "print(\"\\nFlattened Array:\\n\", flattened_array)"
      ],
      "metadata": {
        "colab": {
          "base_uri": "https://localhost:8080/"
        },
        "id": "m9Xt04fCx_qZ",
        "outputId": "79b106fc-70b9-45d2-e2b8-13e1f13db979"
      },
      "execution_count": 18,
      "outputs": [
        {
          "output_type": "stream",
          "name": "stdout",
          "text": [
            "Original 2D Array (6x2):\n",
            " [[ 1  2]\n",
            " [ 3  4]\n",
            " [ 5  6]\n",
            " [ 7  8]\n",
            " [ 9 10]\n",
            " [11 12]]\n",
            "\n",
            "Reshaped 3D Array (2x3x2):\n",
            " [[[ 1  2]\n",
            "  [ 3  4]\n",
            "  [ 5  6]]\n",
            "\n",
            " [[ 7  8]\n",
            "  [ 9 10]\n",
            "  [11 12]]]\n",
            "\n",
            "Flattened Array:\n",
            " [ 1  2  3  4  5  6  7  8  9 10 11 12]\n"
          ]
        }
      ]
    },
    {
      "cell_type": "code",
      "source": [
        "import numpy as np\n",
        "# Creating a 3x3 array\n",
        "array_3x3 = np.array([[1, 2, 3], [4, 5, 6], [7, 8, 9]])\n",
        "print(\"Original 3x3 Array:\\n\", array_3x3)\n",
        "# Creating a 1x3 array\n",
        "array_1d = np.array([[10, 20, 30]])\n",
        "print(\"\\n1D Array to be added:\\n\", array_1d)\n",
        "# Broadcasting operation\n",
        "broadcasted_result = array_3x3 + array_1d\n",
        "print(\"\\nResult after broadcasting:\\n\", broadcasted_result)"
      ],
      "metadata": {
        "colab": {
          "base_uri": "https://localhost:8080/"
        },
        "id": "tvICKHZnzHkf",
        "outputId": "aa3e29d0-89dc-46ee-9360-838f199c0d8a"
      },
      "execution_count": 19,
      "outputs": [
        {
          "output_type": "stream",
          "name": "stdout",
          "text": [
            "Original 3x3 Array:\n",
            " [[1 2 3]\n",
            " [4 5 6]\n",
            " [7 8 9]]\n",
            "\n",
            "1D Array to be added:\n",
            " [[10 20 30]]\n",
            "\n",
            "Result after broadcasting:\n",
            " [[11 22 33]\n",
            " [14 25 36]\n",
            " [17 28 39]]\n"
          ]
        }
      ]
    },
    {
      "cell_type": "code",
      "source": [
        "import numpy as np\n",
        "# Creating two 2x3 arrays\n",
        "A = np.array([[1, 2, 3], [4, 5, 6]])\n",
        "B = np.array([[7, 8, 9], [10, 11, 12]])\n",
        "print(\"Array A:\\n\", A)\n",
        "print(\"\\nArray B:\\n\", B)\n",
        "# Element-wise Addition\n",
        "add_result = A + B\n",
        "print(\"\\nElement-wise Addition:\\n\", add_result)\n",
        "# Element-wise Subtraction\n",
        "sub_result = A - B\n",
        "print(\"\\nElement-wise Subtraction:\\n\", sub_result)\n",
        "# Element-wise Multiplication\n",
        "mul_result = A * B\n",
        "print(\"\\nElement-wise Multiplication:\\n\", mul_result)\n",
        "# Element-wise Division\n",
        "div_result = A / B\n",
        "print(\"\\nElement-wise Division:\\n\", div_result)"
      ],
      "metadata": {
        "colab": {
          "base_uri": "https://localhost:8080/"
        },
        "id": "nWp-P7QBzkb7",
        "outputId": "721a1f72-675e-45e0-9d71-3161339e5cf0"
      },
      "execution_count": 20,
      "outputs": [
        {
          "output_type": "stream",
          "name": "stdout",
          "text": [
            "Array A:\n",
            " [[1 2 3]\n",
            " [4 5 6]]\n",
            "\n",
            "Array B:\n",
            " [[ 7  8  9]\n",
            " [10 11 12]]\n",
            "\n",
            "Element-wise Addition:\n",
            " [[ 8 10 12]\n",
            " [14 16 18]]\n",
            "\n",
            "Element-wise Subtraction:\n",
            " [[-6 -6 -6]\n",
            " [-6 -6 -6]]\n",
            "\n",
            "Element-wise Multiplication:\n",
            " [[ 7 16 27]\n",
            " [40 55 72]]\n",
            "\n",
            "Element-wise Division:\n",
            " [[0.14285714 0.25       0.33333333]\n",
            " [0.4        0.45454545 0.5       ]]\n"
          ]
        }
      ]
    },
    {
      "cell_type": "code",
      "source": [
        "import pandas as pd\n",
        "# Creating the DataFrame with student names and marks\n",
        "data = {\n",
        "    'Name': ['John', 'Alice', 'Bob'],\n",
        "    'Math': [85, 92, 78],\n",
        "    'Science': [88, 94, 82],\n",
        "    'English': [90, 89, 75]\n",
        "}\n",
        "df = pd.DataFrame(data)\n",
        "print(\"Original DataFrame:\\n\", df)\n",
        "# Adding 'Total' column\n",
        "df['Total'] = df['Math'] + df['Science'] + df['English']\n",
        "# Function to assign grades based on Total\n",
        "def assign_grade(total):\n",
        "    if total >= 270:\n",
        "        return 'A'\n",
        "    elif total >= 240:\n",
        "        return 'B'\n",
        "    elif total >= 210:\n",
        "        return 'C'\n",
        "    else:\n",
        "        return 'D'\n",
        "# Adding 'Grade' column\n",
        "df['Grade'] = df['Total'].apply(assign_grade)\n",
        "print(\"\\nUpdated DataFrame with 'Total' and 'Grade':\\n\", df)"
      ],
      "metadata": {
        "colab": {
          "base_uri": "https://localhost:8080/"
        },
        "id": "5Bqhx3kG03xT",
        "outputId": "27ab6495-62e4-457d-ec00-a22cc5c91c7e"
      },
      "execution_count": 21,
      "outputs": [
        {
          "output_type": "stream",
          "name": "stdout",
          "text": [
            "Original DataFrame:\n",
            "     Name  Math  Science  English\n",
            "0   John    85       88       90\n",
            "1  Alice    92       94       89\n",
            "2    Bob    78       82       75\n",
            "\n",
            "Updated DataFrame with 'Total' and 'Grade':\n",
            "     Name  Math  Science  English  Total Grade\n",
            "0   John    85       88       90    263     B\n",
            "1  Alice    92       94       89    275     A\n",
            "2    Bob    78       82       75    235     C\n"
          ]
        }
      ]
    }
  ]
}